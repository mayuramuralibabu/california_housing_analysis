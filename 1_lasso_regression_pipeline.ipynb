{
 "cells": [
  {
   "cell_type": "markdown",
   "metadata": {},
   "source": [
    "### Your name:\n",
    "\n",
    "<pre> MAYURA MURALIBABU</pre>\n",
    "\n",
    "### Collaborators:\n",
    "\n",
    "<pre> KUSHAL TOPNANI </pre>\n"
   ]
  },
  {
   "cell_type": "code",
   "execution_count": 1,
   "metadata": {},
   "outputs": [],
   "source": [
    "import matplotlib\n",
    "import matplotlib.pyplot as plt\n",
    "import numpy as np\n",
    "import pandas as pd\n",
    "import seaborn as sns"
   ]
  },
  {
   "cell_type": "markdown",
   "metadata": {},
   "source": [
    "Markdown referece can be found here:\n",
    "    http://nestacms.com/docs/creating-content/markdown-cheat-sheet"
   ]
  },
  {
   "cell_type": "markdown",
   "metadata": {},
   "source": [
    "**Q1. Why would it be a problem if our training set and test set are the same.**"
   ]
  },
  {
   "cell_type": "markdown",
   "metadata": {},
   "source": [
    "<pre>If training set and test is same then the we will get a 100% accuracy rate which is pratically impossible. Also, model will not be able to learn for a generalise data</pre>"
   ]
  },
  {
   "cell_type": "markdown",
   "metadata": {},
   "source": [
    "\n",
    "Open the housing data\n"
   ]
  },
  {
   "cell_type": "code",
   "execution_count": 2,
   "metadata": {
    "scrolled": true
   },
   "outputs": [
    {
     "data": {
      "text/html": [
       "<div>\n",
       "<style scoped>\n",
       "    .dataframe tbody tr th:only-of-type {\n",
       "        vertical-align: middle;\n",
       "    }\n",
       "\n",
       "    .dataframe tbody tr th {\n",
       "        vertical-align: top;\n",
       "    }\n",
       "\n",
       "    .dataframe thead th {\n",
       "        text-align: right;\n",
       "    }\n",
       "</style>\n",
       "<table border=\"1\" class=\"dataframe\">\n",
       "  <thead>\n",
       "    <tr style=\"text-align: right;\">\n",
       "      <th></th>\n",
       "      <th>longitude</th>\n",
       "      <th>latitude</th>\n",
       "      <th>housing_median_age</th>\n",
       "      <th>total_rooms</th>\n",
       "      <th>total_bedrooms</th>\n",
       "      <th>population</th>\n",
       "      <th>households</th>\n",
       "      <th>median_income</th>\n",
       "      <th>median_house_value</th>\n",
       "      <th>ocean_proximity</th>\n",
       "    </tr>\n",
       "  </thead>\n",
       "  <tbody>\n",
       "    <tr>\n",
       "      <td>0</td>\n",
       "      <td>-122.23</td>\n",
       "      <td>37.88</td>\n",
       "      <td>41.0</td>\n",
       "      <td>880.0</td>\n",
       "      <td>129.0</td>\n",
       "      <td>322.0</td>\n",
       "      <td>126.0</td>\n",
       "      <td>8.3252</td>\n",
       "      <td>452600.0</td>\n",
       "      <td>NEAR BAY</td>\n",
       "    </tr>\n",
       "    <tr>\n",
       "      <td>1</td>\n",
       "      <td>-122.22</td>\n",
       "      <td>37.86</td>\n",
       "      <td>21.0</td>\n",
       "      <td>7099.0</td>\n",
       "      <td>1106.0</td>\n",
       "      <td>2401.0</td>\n",
       "      <td>1138.0</td>\n",
       "      <td>8.3014</td>\n",
       "      <td>358500.0</td>\n",
       "      <td>NEAR BAY</td>\n",
       "    </tr>\n",
       "    <tr>\n",
       "      <td>2</td>\n",
       "      <td>-122.24</td>\n",
       "      <td>37.85</td>\n",
       "      <td>52.0</td>\n",
       "      <td>1467.0</td>\n",
       "      <td>190.0</td>\n",
       "      <td>496.0</td>\n",
       "      <td>177.0</td>\n",
       "      <td>7.2574</td>\n",
       "      <td>352100.0</td>\n",
       "      <td>NEAR BAY</td>\n",
       "    </tr>\n",
       "    <tr>\n",
       "      <td>3</td>\n",
       "      <td>-122.25</td>\n",
       "      <td>37.85</td>\n",
       "      <td>52.0</td>\n",
       "      <td>1274.0</td>\n",
       "      <td>235.0</td>\n",
       "      <td>558.0</td>\n",
       "      <td>219.0</td>\n",
       "      <td>5.6431</td>\n",
       "      <td>341300.0</td>\n",
       "      <td>NEAR BAY</td>\n",
       "    </tr>\n",
       "    <tr>\n",
       "      <td>4</td>\n",
       "      <td>-122.25</td>\n",
       "      <td>37.85</td>\n",
       "      <td>52.0</td>\n",
       "      <td>1627.0</td>\n",
       "      <td>280.0</td>\n",
       "      <td>565.0</td>\n",
       "      <td>259.0</td>\n",
       "      <td>3.8462</td>\n",
       "      <td>342200.0</td>\n",
       "      <td>NEAR BAY</td>\n",
       "    </tr>\n",
       "  </tbody>\n",
       "</table>\n",
       "</div>"
      ],
      "text/plain": [
       "   longitude  latitude  housing_median_age  total_rooms  total_bedrooms  \\\n",
       "0    -122.23     37.88                41.0        880.0           129.0   \n",
       "1    -122.22     37.86                21.0       7099.0          1106.0   \n",
       "2    -122.24     37.85                52.0       1467.0           190.0   \n",
       "3    -122.25     37.85                52.0       1274.0           235.0   \n",
       "4    -122.25     37.85                52.0       1627.0           280.0   \n",
       "\n",
       "   population  households  median_income  median_house_value ocean_proximity  \n",
       "0       322.0       126.0         8.3252            452600.0        NEAR BAY  \n",
       "1      2401.0      1138.0         8.3014            358500.0        NEAR BAY  \n",
       "2       496.0       177.0         7.2574            352100.0        NEAR BAY  \n",
       "3       558.0       219.0         5.6431            341300.0        NEAR BAY  \n",
       "4       565.0       259.0         3.8462            342200.0        NEAR BAY  "
      ]
     },
     "execution_count": 2,
     "metadata": {},
     "output_type": "execute_result"
    }
   ],
   "source": [
    "import os\n",
    "import tarfile\n",
    "from six.moves import urllib\n",
    "import pandas as pd\n",
    "\n",
    "\n",
    "DOWNLOAD_ROOT = \"https://raw.githubusercontent.com/ageron/handson-ml/master/\"\n",
    "HOUSING_PATH = os.path.join(\"datasets\", \"housing\")\n",
    "HOUSING_URL = DOWNLOAD_ROOT + \"datasets/housing/housing.tgz\"\n",
    "\n",
    "def fetch_housing_data(housing_url=HOUSING_URL, housing_path=HOUSING_PATH):\n",
    "    if not os.path.isdir(housing_path):\n",
    "        os.makedirs(housing_path)\n",
    "    tgz_path = os.path.join(housing_path, \"housing.tgz\")\n",
    "    urllib.request.urlretrieve(housing_url, tgz_path)\n",
    "    housing_tgz = tarfile.open(tgz_path)\n",
    "    housing_tgz.extractall(path=housing_path)\n",
    "    housing_tgz.close()\n",
    "fetch_housing_data()\n",
    "\n",
    "\n",
    "def load_housing_data(housing_path=HOUSING_PATH):\n",
    "    csv_path = os.path.join(housing_path, \"housing.csv\")\n",
    "    return pd.read_csv(csv_path)\n",
    "\n",
    "housing = load_housing_data()\n",
    "housing.head()"
   ]
  },
  {
   "cell_type": "markdown",
   "metadata": {},
   "source": [
    "### Build full pipeline for the data analysis following the example of the notebook we went through in class.\n",
    " Hint: the main part requested to change is the algorithm used (Lasso regression)\n",
    "\n",
    "If you want to learn more about the Lasso regression, see resources below:\n",
    "- http://scikit-learn.org/stable/modules/linear_model.html#lasso\n",
    "- https://www.analyticsvidhya.com/blog/2016/01/complete-tutorial-ridge-lasso-regression-python/"
   ]
  },
  {
   "cell_type": "markdown",
   "metadata": {},
   "source": [
    "#### Considerations for building pipeline:\n",
    "\n",
    "- Split data into training and testing sets below.\n",
    "- Convert all categorical data to one-hot vectors below\n",
    "- Normalize all non-categorical data \n",
    "-  Perform Lasso-based regression using a variety of values for $\\alpha$ between 0 and 1 via a grid search where  *housing_labels* is the output and all other features are the input (similar to as seen in lecture two.)"
   ]
  },
  {
   "cell_type": "code",
   "execution_count": 3,
   "metadata": {},
   "outputs": [],
   "source": [
    "import re\n",
    "import scipy\n",
    "from sklearn.compose import ColumnTransformer\n",
    "from sklearn.pipeline import Pipeline\n",
    "from sklearn.impute import SimpleImputer\n",
    "from sklearn.preprocessing import StandardScaler\n",
    "from sklearn.preprocessing import MinMaxScaler\n",
    "from sklearn.preprocessing import OneHotEncoder\n",
    "from sklearn.preprocessing import FunctionTransformer\n",
    "from sklearn.model_selection import train_test_split\n",
    "from sklearn.model_selection import StratifiedShuffleSplit\n",
    "from sklearn.linear_model import Lasso\n",
    "\n",
    "pd.options.display.max_columns = None\n",
    "np.random.seed(0)\n",
    "\n",
    "\n",
    "df = pd.read_csv('datasets/housing/housing.csv')\n",
    "\n",
    "df=df.copy()\n",
    "\n",
    "def rmse(a, b):\n",
    "    return np.sqrt(np.mean((a-b)**2))"
   ]
  },
  {
   "cell_type": "code",
   "execution_count": 4,
   "metadata": {},
   "outputs": [
    {
     "data": {
      "text/html": [
       "<div>\n",
       "<style scoped>\n",
       "    .dataframe tbody tr th:only-of-type {\n",
       "        vertical-align: middle;\n",
       "    }\n",
       "\n",
       "    .dataframe tbody tr th {\n",
       "        vertical-align: top;\n",
       "    }\n",
       "\n",
       "    .dataframe thead th {\n",
       "        text-align: right;\n",
       "    }\n",
       "</style>\n",
       "<table border=\"1\" class=\"dataframe\">\n",
       "  <thead>\n",
       "    <tr style=\"text-align: right;\">\n",
       "      <th></th>\n",
       "      <th>longitude</th>\n",
       "      <th>latitude</th>\n",
       "      <th>housing_median_age</th>\n",
       "      <th>total_rooms</th>\n",
       "      <th>total_bedrooms</th>\n",
       "      <th>population</th>\n",
       "      <th>households</th>\n",
       "      <th>median_income</th>\n",
       "      <th>median_house_value</th>\n",
       "      <th>ocean_proximity</th>\n",
       "    </tr>\n",
       "  </thead>\n",
       "  <tbody>\n",
       "    <tr>\n",
       "      <td>14740</td>\n",
       "      <td>-117.05</td>\n",
       "      <td>32.58</td>\n",
       "      <td>22.0</td>\n",
       "      <td>2101.0</td>\n",
       "      <td>399.0</td>\n",
       "      <td>1551.0</td>\n",
       "      <td>371.0</td>\n",
       "      <td>4.1518</td>\n",
       "      <td>136900.0</td>\n",
       "      <td>NEAR OCEAN</td>\n",
       "    </tr>\n",
       "    <tr>\n",
       "      <td>10101</td>\n",
       "      <td>-117.97</td>\n",
       "      <td>33.92</td>\n",
       "      <td>32.0</td>\n",
       "      <td>2620.0</td>\n",
       "      <td>398.0</td>\n",
       "      <td>1296.0</td>\n",
       "      <td>429.0</td>\n",
       "      <td>5.7796</td>\n",
       "      <td>241300.0</td>\n",
       "      <td>&lt;1H OCEAN</td>\n",
       "    </tr>\n",
       "    <tr>\n",
       "      <td>20566</td>\n",
       "      <td>-121.84</td>\n",
       "      <td>38.65</td>\n",
       "      <td>29.0</td>\n",
       "      <td>3167.0</td>\n",
       "      <td>548.0</td>\n",
       "      <td>1554.0</td>\n",
       "      <td>534.0</td>\n",
       "      <td>4.3487</td>\n",
       "      <td>200700.0</td>\n",
       "      <td>INLAND</td>\n",
       "    </tr>\n",
       "    <tr>\n",
       "      <td>2670</td>\n",
       "      <td>-115.60</td>\n",
       "      <td>33.20</td>\n",
       "      <td>37.0</td>\n",
       "      <td>709.0</td>\n",
       "      <td>187.0</td>\n",
       "      <td>390.0</td>\n",
       "      <td>142.0</td>\n",
       "      <td>2.4511</td>\n",
       "      <td>72500.0</td>\n",
       "      <td>INLAND</td>\n",
       "    </tr>\n",
       "    <tr>\n",
       "      <td>15709</td>\n",
       "      <td>-122.43</td>\n",
       "      <td>37.79</td>\n",
       "      <td>25.0</td>\n",
       "      <td>1637.0</td>\n",
       "      <td>394.0</td>\n",
       "      <td>649.0</td>\n",
       "      <td>379.0</td>\n",
       "      <td>5.0049</td>\n",
       "      <td>460000.0</td>\n",
       "      <td>NEAR BAY</td>\n",
       "    </tr>\n",
       "    <tr>\n",
       "      <td>439</td>\n",
       "      <td>-122.29</td>\n",
       "      <td>37.85</td>\n",
       "      <td>52.0</td>\n",
       "      <td>477.0</td>\n",
       "      <td>119.0</td>\n",
       "      <td>218.0</td>\n",
       "      <td>106.0</td>\n",
       "      <td>2.5682</td>\n",
       "      <td>120000.0</td>\n",
       "      <td>NEAR BAY</td>\n",
       "    </tr>\n",
       "    <tr>\n",
       "      <td>845</td>\n",
       "      <td>-122.07</td>\n",
       "      <td>37.58</td>\n",
       "      <td>16.0</td>\n",
       "      <td>1606.0</td>\n",
       "      <td>240.0</td>\n",
       "      <td>1117.0</td>\n",
       "      <td>268.0</td>\n",
       "      <td>6.0661</td>\n",
       "      <td>247000.0</td>\n",
       "      <td>NEAR BAY</td>\n",
       "    </tr>\n",
       "    <tr>\n",
       "      <td>3768</td>\n",
       "      <td>-118.43</td>\n",
       "      <td>34.17</td>\n",
       "      <td>37.0</td>\n",
       "      <td>1982.0</td>\n",
       "      <td>331.0</td>\n",
       "      <td>794.0</td>\n",
       "      <td>340.0</td>\n",
       "      <td>5.9275</td>\n",
       "      <td>336900.0</td>\n",
       "      <td>&lt;1H OCEAN</td>\n",
       "    </tr>\n",
       "    <tr>\n",
       "      <td>964</td>\n",
       "      <td>-121.89</td>\n",
       "      <td>37.68</td>\n",
       "      <td>12.0</td>\n",
       "      <td>7490.0</td>\n",
       "      <td>1207.0</td>\n",
       "      <td>3329.0</td>\n",
       "      <td>1136.0</td>\n",
       "      <td>6.3373</td>\n",
       "      <td>339700.0</td>\n",
       "      <td>&lt;1H OCEAN</td>\n",
       "    </tr>\n",
       "    <tr>\n",
       "      <td>8681</td>\n",
       "      <td>-118.33</td>\n",
       "      <td>33.87</td>\n",
       "      <td>44.0</td>\n",
       "      <td>724.0</td>\n",
       "      <td>133.0</td>\n",
       "      <td>373.0</td>\n",
       "      <td>133.0</td>\n",
       "      <td>3.9167</td>\n",
       "      <td>265600.0</td>\n",
       "      <td>&lt;1H OCEAN</td>\n",
       "    </tr>\n",
       "  </tbody>\n",
       "</table>\n",
       "</div>"
      ],
      "text/plain": [
       "       longitude  latitude  housing_median_age  total_rooms  total_bedrooms  \\\n",
       "14740    -117.05     32.58                22.0       2101.0           399.0   \n",
       "10101    -117.97     33.92                32.0       2620.0           398.0   \n",
       "20566    -121.84     38.65                29.0       3167.0           548.0   \n",
       "2670     -115.60     33.20                37.0        709.0           187.0   \n",
       "15709    -122.43     37.79                25.0       1637.0           394.0   \n",
       "439      -122.29     37.85                52.0        477.0           119.0   \n",
       "845      -122.07     37.58                16.0       1606.0           240.0   \n",
       "3768     -118.43     34.17                37.0       1982.0           331.0   \n",
       "964      -121.89     37.68                12.0       7490.0          1207.0   \n",
       "8681     -118.33     33.87                44.0        724.0           133.0   \n",
       "\n",
       "       population  households  median_income  median_house_value  \\\n",
       "14740      1551.0       371.0         4.1518            136900.0   \n",
       "10101      1296.0       429.0         5.7796            241300.0   \n",
       "20566      1554.0       534.0         4.3487            200700.0   \n",
       "2670        390.0       142.0         2.4511             72500.0   \n",
       "15709       649.0       379.0         5.0049            460000.0   \n",
       "439         218.0       106.0         2.5682            120000.0   \n",
       "845        1117.0       268.0         6.0661            247000.0   \n",
       "3768        794.0       340.0         5.9275            336900.0   \n",
       "964        3329.0      1136.0         6.3373            339700.0   \n",
       "8681        373.0       133.0         3.9167            265600.0   \n",
       "\n",
       "      ocean_proximity  \n",
       "14740      NEAR OCEAN  \n",
       "10101       <1H OCEAN  \n",
       "20566          INLAND  \n",
       "2670           INLAND  \n",
       "15709        NEAR BAY  \n",
       "439          NEAR BAY  \n",
       "845          NEAR BAY  \n",
       "3768        <1H OCEAN  \n",
       "964         <1H OCEAN  \n",
       "8681        <1H OCEAN  "
      ]
     },
     "execution_count": 4,
     "metadata": {},
     "output_type": "execute_result"
    }
   ],
   "source": [
    "df.sample(10, random_state=0)\n"
   ]
  },
  {
   "cell_type": "code",
   "execution_count": 5,
   "metadata": {},
   "outputs": [
    {
     "data": {
      "text/plain": [
       "[(207, 'total_bedrooms')]"
      ]
     },
     "execution_count": 5,
     "metadata": {},
     "output_type": "execute_result"
    }
   ],
   "source": [
    "[(x, y) for x, y in zip(df.isna().sum(), df.isna().sum().index) if x > 0]"
   ]
  },
  {
   "cell_type": "code",
   "execution_count": 6,
   "metadata": {},
   "outputs": [
    {
     "name": "stdout",
     "output_type": "stream",
     "text": [
      "<bound method DataFrame.info of        longitude  latitude  housing_median_age  total_rooms  total_bedrooms  \\\n",
      "0        -122.23     37.88                41.0        880.0           129.0   \n",
      "1        -122.22     37.86                21.0       7099.0          1106.0   \n",
      "2        -122.24     37.85                52.0       1467.0           190.0   \n",
      "3        -122.25     37.85                52.0       1274.0           235.0   \n",
      "4        -122.25     37.85                52.0       1627.0           280.0   \n",
      "...          ...       ...                 ...          ...             ...   \n",
      "20635    -121.09     39.48                25.0       1665.0           374.0   \n",
      "20636    -121.21     39.49                18.0        697.0           150.0   \n",
      "20637    -121.22     39.43                17.0       2254.0           485.0   \n",
      "20638    -121.32     39.43                18.0       1860.0           409.0   \n",
      "20639    -121.24     39.37                16.0       2785.0           616.0   \n",
      "\n",
      "       population  households  median_income  median_house_value  \\\n",
      "0           322.0       126.0         8.3252            452600.0   \n",
      "1          2401.0      1138.0         8.3014            358500.0   \n",
      "2           496.0       177.0         7.2574            352100.0   \n",
      "3           558.0       219.0         5.6431            341300.0   \n",
      "4           565.0       259.0         3.8462            342200.0   \n",
      "...           ...         ...            ...                 ...   \n",
      "20635       845.0       330.0         1.5603             78100.0   \n",
      "20636       356.0       114.0         2.5568             77100.0   \n",
      "20637      1007.0       433.0         1.7000             92300.0   \n",
      "20638       741.0       349.0         1.8672             84700.0   \n",
      "20639      1387.0       530.0         2.3886             89400.0   \n",
      "\n",
      "      ocean_proximity  \n",
      "0            NEAR BAY  \n",
      "1            NEAR BAY  \n",
      "2            NEAR BAY  \n",
      "3            NEAR BAY  \n",
      "4            NEAR BAY  \n",
      "...               ...  \n",
      "20635          INLAND  \n",
      "20636          INLAND  \n",
      "20637          INLAND  \n",
      "20638          INLAND  \n",
      "20639          INLAND  \n",
      "\n",
      "[20640 rows x 10 columns]>\n"
     ]
    }
   ],
   "source": [
    "print(housing.info)"
   ]
  },
  {
   "cell_type": "code",
   "execution_count": 7,
   "metadata": {},
   "outputs": [
    {
     "name": "stdout",
     "output_type": "stream",
     "text": [
      "[ 129. 1106.  190. ...  485.  409.  616.]\n",
      "[ 129. 1106.  190. ...  485.  409.  616.]\n",
      "['NEAR BAY' 'NEAR BAY' 'NEAR BAY' ... 'INLAND' 'INLAND' 'INLAND']\n",
      "['NEAR BAY' 'NEAR BAY' 'NEAR BAY' ... 'INLAND' 'INLAND' 'INLAND']\n"
     ]
    }
   ],
   "source": [
    "##IMPUTERS ##\n",
    "\n",
    "print(df[['total_bedrooms']].values[:, 0])\n",
    "tfmr = SimpleImputer(strategy='median')\n",
    "print(tfmr.fit_transform(df[['total_bedrooms']].values)[:, 0])\n",
    "\n",
    "print(df[['ocean_proximity']].values[:, 0])\n",
    "tfmr = SimpleImputer(strategy='constant', fill_value='Other')\n",
    "\n",
    "print(tfmr.fit_transform(df[['ocean_proximity']].values)[:, 0])"
   ]
  },
  {
   "cell_type": "code",
   "execution_count": 8,
   "metadata": {},
   "outputs": [
    {
     "name": "stdout",
     "output_type": "stream",
     "text": [
      "[['NEAR BAY']\n",
      " ['NEAR BAY']\n",
      " ['NEAR BAY']\n",
      " ...\n",
      " ['INLAND']\n",
      " ['INLAND']\n",
      " ['INLAND']]\n",
      "[[0. 0. 0. 1. 0.]\n",
      " [0. 0. 0. 1. 0.]\n",
      " [0. 0. 0. 1. 0.]\n",
      " ...\n",
      " [0. 1. 0. 0. 0.]\n",
      " [0. 1. 0. 0. 0.]\n",
      " [0. 1. 0. 0. 0.]]\n"
     ]
    }
   ],
   "source": [
    "\n",
    "##Convert all categorical data to one-hot vectors below##\n",
    "\n",
    "print(df[['ocean_proximity']].values)\n",
    "tfmr = OneHotEncoder(sparse=False)\n",
    "print(tfmr.fit_transform(df[['ocean_proximity']].values))"
   ]
  },
  {
   "cell_type": "code",
   "execution_count": 9,
   "metadata": {},
   "outputs": [],
   "source": [
    "#variable buckets:\n",
    "dependent_vars=['median_house_value']\n",
    "categorical_vars = ['ocean_proximity']\n",
    "discrete_vars =['total_rooms','total_bedrooms','housing_median_age']\n",
    "continuous_vars=['longitude','latitude','population','households','median_income']"
   ]
  },
  {
   "cell_type": "code",
   "execution_count": 10,
   "metadata": {},
   "outputs": [
    {
     "name": "stdout",
     "output_type": "stream",
     "text": [
      "[41. 21. 52. ... 17. 18. 16.]\n",
      "[0.78431373 0.39215686 1.         ... 0.31372549 0.33333333 0.29411765]\n",
      "[ 880. 7099. 1467. ... 2254. 1860. 2785.]\n",
      "[0.02233074 0.18050257 0.03726029 ... 0.05727657 0.04725571 0.07078183]\n",
      "[8.3252 8.3014 7.2574 ... 1.7    1.8672 2.3886]\n",
      "[0.53966842 0.53802706 0.46602805 ... 0.08276438 0.09429525 0.13025338]\n",
      "[452600. 358500. 352100. ...  92300.  84700.  89400.]\n",
      "[0.90226638 0.70824656 0.69505074 ... 0.15938285 0.14371281 0.15340349]\n",
      "[ 322. 2401.  496. ... 1007.  741. 1387.]\n",
      "[0.00894083 0.0672104  0.01381765 ... 0.0281398  0.02068444 0.03879032]\n",
      "[ 129. 1106.  190. ...  485.  409.  616.]\n",
      "[0.01986344 0.17147734 0.02932961 ... 0.07510863 0.06331471 0.09543762]\n",
      "[ 126. 1138.  177. ...  433.  349.  530.]\n",
      "[0.02055583 0.18697583 0.02894261 ... 0.07104095 0.05722743 0.08699227]\n",
      "[37.88 37.86 37.85 ... 39.43 39.43 39.37]\n",
      "[0.5674814  0.565356   0.5642933  ... 0.73219979 0.73219979 0.72582359]\n",
      "[-122.23 -122.22 -122.24 ... -121.22 -121.32 -121.24]\n",
      "[0.21115538 0.21215139 0.21015936 ... 0.31175299 0.30179283 0.30976096]\n"
     ]
    }
   ],
   "source": [
    "\n",
    "##Normalize all non-categorical data##\n",
    "\n",
    "print(df[['housing_median_age']].values[:, 0])\n",
    "tfmr = MinMaxScaler()\n",
    "print(tfmr.fit_transform(df[['housing_median_age']].values)[:, 0])\n",
    "\n",
    "print(df[['total_rooms']].values[:, 0])\n",
    "tfmr = MinMaxScaler()\n",
    "print(tfmr.fit_transform(df[['total_rooms']].values)[:, 0])\n",
    "\n",
    "print(df[['median_income']].values[:, 0])\n",
    "tfmr = MinMaxScaler()\n",
    "print(tfmr.fit_transform(df[['median_income']].values)[:, 0])\n",
    "\n",
    "print(df[['median_house_value']].values[:, 0])\n",
    "tfmr = MinMaxScaler()\n",
    "print(tfmr.fit_transform(df[['median_house_value']].values)[:, 0])\n",
    "\n",
    "print(df[['population']].values[:, 0])\n",
    "tfmr = MinMaxScaler()\n",
    "print(tfmr.fit_transform(df[['population']].values)[:, 0])\n",
    "\n",
    "print(df[['total_bedrooms']].values[:, 0])\n",
    "tfmr = MinMaxScaler()\n",
    "print(tfmr.fit_transform(df[['total_bedrooms']].values)[:, 0])\n",
    "\n",
    "print(df[['households']].values[:, 0])\n",
    "tfmr = MinMaxScaler()\n",
    "print(tfmr.fit_transform(df[['households']].values)[:, 0])\n",
    "\n",
    "print(df[['latitude']].values[:, 0])\n",
    "tfmr = MinMaxScaler()\n",
    "print(tfmr.fit_transform(df[['latitude']].values)[:, 0])\n",
    "\n",
    "print(df[['longitude']].values[:, 0])\n",
    "tfmr =  MinMaxScaler()\n",
    "print(tfmr.fit_transform(df[['longitude']].values)[:, 0])\n"
   ]
  },
  {
   "cell_type": "code",
   "execution_count": 11,
   "metadata": {},
   "outputs": [],
   "source": [
    "# Categorical - impute, one hot encode\n",
    "cat_si_step = ('si', SimpleImputer(strategy='constant', fill_value='Other'))\n",
    "cat_ohe_step = ('ohe', OneHotEncoder(sparse=False, handle_unknown='ignore'))\n",
    "cat_steps = [cat_si_step, cat_ohe_step]\n",
    "cat_pipe = Pipeline(cat_steps)\n",
    "cat_transformers = [('cat', cat_pipe, categorical_vars)]\n",
    "\n",
    "# Numerical - impute, scale\n",
    "num_si_step = ('si', SimpleImputer(strategy='median'))\n",
    "num_scl_step = ('scl', MinMaxScaler())\n",
    "num_steps = [num_si_step, num_scl_step]\n",
    "num_pipe = Pipeline(num_steps)\n",
    "num_transformers = [('num', num_pipe, discrete_vars + continuous_vars)]\n",
    "\n",
    "\n"
   ]
  },
  {
   "cell_type": "code",
   "execution_count": 12,
   "metadata": {},
   "outputs": [],
   "source": [
    "\n",
    "ct = ColumnTransformer(transformers=cat_transformers+ num_transformers)\n",
    "ct.fit(df[categorical_vars + discrete_vars + continuous_vars])\n",
    "X = ct.transform(df[categorical_vars + discrete_vars + continuous_vars])\n",
    "\n",
    "y = df['median_house_value'].values"
   ]
  },
  {
   "cell_type": "code",
   "execution_count": 13,
   "metadata": {},
   "outputs": [
    {
     "name": "stdout",
     "output_type": "stream",
     "text": [
      "(16512, 13) (4128, 13) (16512,) (4128,)\n"
     ]
    }
   ],
   "source": [
    "\n",
    "## split train and test##\n",
    "X_train, X_test, y_train, y_test = train_test_split(X, y,test_size=0.2,random_state=0)\n",
    "\n",
    "print(X_train.shape, X_test.shape, y_train.shape, y_test.shape)"
   ]
  },
  {
   "cell_type": "code",
   "execution_count": 14,
   "metadata": {},
   "outputs": [],
   "source": [
    "##Performing Lasso Regression##\n",
    "from sklearn.linear_model import Lasso\n",
    "from sklearn.model_selection import GridSearchCV\n",
    "\n",
    "ls = Lasso(normalize=False, max_iter=100000,tol=1.0)\n"
   ]
  },
  {
   "cell_type": "code",
   "execution_count": 15,
   "metadata": {
    "scrolled": true
   },
   "outputs": [],
   "source": [
    "## various alpha values -- Lasso Regression## \n",
    "param_grid = [{'alpha':[1e-15, 1e-10, 1e-8, 1e-4, 1e-3,1e-2, 1, 5, 10, 20]}]\n",
    "housing_grid = GridSearchCV(ls, param_grid,cv=5)"
   ]
  },
  {
   "cell_type": "code",
   "execution_count": 16,
   "metadata": {},
   "outputs": [
    {
     "data": {
      "text/plain": [
       "GridSearchCV(cv=5, error_score='raise-deprecating',\n",
       "             estimator=Lasso(alpha=1.0, copy_X=True, fit_intercept=True,\n",
       "                             max_iter=100000, normalize=False, positive=False,\n",
       "                             precompute=False, random_state=None,\n",
       "                             selection='cyclic', tol=1.0, warm_start=False),\n",
       "             iid='warn', n_jobs=None,\n",
       "             param_grid=[{'alpha': [1e-15, 1e-10, 1e-08, 0.0001, 0.001, 0.01, 1,\n",
       "                                    5, 10, 20]}],\n",
       "             pre_dispatch='2*n_jobs', refit=True, return_train_score=False,\n",
       "             scoring=None, verbose=0)"
      ]
     },
     "execution_count": 16,
     "metadata": {},
     "output_type": "execute_result"
    }
   ],
   "source": [
    "## fit for Lasso regression ## \n",
    "housing_grid.fit(X_train, y_train)"
   ]
  },
  {
   "cell_type": "code",
   "execution_count": 17,
   "metadata": {
    "scrolled": true
   },
   "outputs": [
    {
     "data": {
      "text/plain": [
       "0.614136062817232"
      ]
     },
     "execution_count": 17,
     "metadata": {},
     "output_type": "execute_result"
    }
   ],
   "source": [
    "housing_grid.best_score_"
   ]
  },
  {
   "cell_type": "code",
   "execution_count": 18,
   "metadata": {},
   "outputs": [
    {
     "data": {
      "text/plain": [
       "{'mean_fit_time': array([0.00859623, 0.007197  , 0.00619736, 0.0061974 , 0.00539827,\n",
       "        0.0055984 , 0.00519814, 0.00539837, 0.00439763, 0.00439816]),\n",
       " 'std_fit_time': array([0.00272572, 0.00039907, 0.00097954, 0.00097899, 0.00048998,\n",
       "        0.00048996, 0.00039988, 0.0004898 , 0.0004892 , 0.00048994]),\n",
       " 'mean_score_time': array([0.00139871, 0.00159874, 0.00139985, 0.00099945, 0.00099945,\n",
       "        0.00099907, 0.00139933, 0.00119872, 0.00080042, 0.00099988]),\n",
       " 'std_score_time': array([4.89181163e-04, 4.89804534e-04, 4.89318912e-04, 3.01578299e-07,\n",
       "        9.29526743e-07, 7.16843432e-07, 4.90037648e-04, 3.99375001e-04,\n",
       "        4.00209555e-04, 6.64157308e-07]),\n",
       " 'param_alpha': masked_array(data=[1e-15, 1e-10, 1e-08, 0.0001, 0.001, 0.01, 1, 5, 10, 20],\n",
       "              mask=[False, False, False, False, False, False, False, False,\n",
       "                    False, False],\n",
       "        fill_value='?',\n",
       "             dtype=object),\n",
       " 'params': [{'alpha': 1e-15},\n",
       "  {'alpha': 1e-10},\n",
       "  {'alpha': 1e-08},\n",
       "  {'alpha': 0.0001},\n",
       "  {'alpha': 0.001},\n",
       "  {'alpha': 0.01},\n",
       "  {'alpha': 1},\n",
       "  {'alpha': 5},\n",
       "  {'alpha': 10},\n",
       "  {'alpha': 20}],\n",
       " 'split0_test_score': array([0.62688839, 0.62688839, 0.62688839, 0.62688838, 0.62688834,\n",
       "        0.62688794, 0.62684223, 0.62663514, 0.62632891, 0.62556507]),\n",
       " 'split1_test_score': array([0.61775148, 0.61775148, 0.61775148, 0.61775148, 0.61775147,\n",
       "        0.61775137, 0.61774001, 0.61769319, 0.61763261, 0.6175046 ]),\n",
       " 'split2_test_score': array([0.6007986 , 0.6007986 , 0.6007986 , 0.6007986 , 0.60079859,\n",
       "        0.60079848, 0.60078668, 0.60073787, 0.60067439, 0.60053916]),\n",
       " 'split3_test_score': array([0.61425234, 0.61425234, 0.61425234, 0.61425234, 0.61425233,\n",
       "        0.6142522 , 0.61423701, 0.61415437, 0.61400308, 0.61354059]),\n",
       " 'split4_test_score': array([0.61098454, 0.61098454, 0.61098454, 0.61098454, 0.61098457,\n",
       "        0.61098489, 0.61101821, 0.61113106, 0.61122304, 0.61124341]),\n",
       " 'mean_test_score': array([0.61413606, 0.61413606, 0.61413606, 0.61413606, 0.61413605,\n",
       "        0.61413597, 0.61412582, 0.61407131, 0.61397338, 0.61367952]),\n",
       " 'std_test_score': array([0.00852685, 0.00852685, 0.00852685, 0.00852685, 0.00852683,\n",
       "        0.00852671, 0.00851329, 0.00845469, 0.0083724 , 0.00817957]),\n",
       " 'rank_test_score': array([ 1,  2,  3,  4,  5,  6,  7,  8,  9, 10])}"
      ]
     },
     "execution_count": 18,
     "metadata": {},
     "output_type": "execute_result"
    }
   ],
   "source": [
    "housing_grid.cv_results_"
   ]
  },
  {
   "cell_type": "code",
   "execution_count": 19,
   "metadata": {},
   "outputs": [
    {
     "name": "stdout",
     "output_type": "stream",
     "text": [
      "0.614631826702569\n",
      "0.600652762781732\n"
     ]
    }
   ],
   "source": [
    "train_score = housing_grid.score(X_train,y_train)\n",
    "test_score = housing_grid.score(X_test,y_test)\n",
    "print(train_score)\n",
    "print(test_score)"
   ]
  },
  {
   "cell_type": "code",
   "execution_count": 20,
   "metadata": {},
   "outputs": [
    {
     "name": "stdout",
     "output_type": "stream",
     "text": [
      "Lasso(alpha=1e-15, copy_X=True, fit_intercept=True, max_iter=100000,\n",
      "      normalize=False, positive=False, precompute=False, random_state=None,\n",
      "      selection='cyclic', tol=1.0, warm_start=False)\n"
     ]
    }
   ],
   "source": [
    "print(housing_grid.best_estimator_)"
   ]
  },
  {
   "cell_type": "code",
   "execution_count": 21,
   "metadata": {},
   "outputs": [
    {
     "name": "stdout",
     "output_type": "stream",
     "text": [
      "[134097.97339691 279490.08910499 223764.53820632 ... 225291.19319365\n",
      " 296437.46372701  36379.73122094]\n",
      "71816.83509474852\n"
     ]
    }
   ],
   "source": [
    "## RMSE ---- Lasso Regression\n",
    "y_pred=housing_grid.predict(X_train)\n",
    "print(y_pred)\n",
    "print(rmse(y_train,y_pred))"
   ]
  },
  {
   "cell_type": "code",
   "execution_count": 23,
   "metadata": {},
   "outputs": [
    {
     "name": "stdout",
     "output_type": "stream",
     "text": [
      "Lasso(alpha=1.0, copy_X=True, fit_intercept=True, max_iter=100000,\n",
      "      normalize=False, positive=False, precompute=False, random_state=None,\n",
      "      selection='cyclic', tol=1.0, warm_start=False)\n"
     ]
    }
   ],
   "source": [
    "value = ls.fit(X_train,y_train)\n",
    "print(value)"
   ]
  },
  {
   "cell_type": "code",
   "execution_count": 24,
   "metadata": {},
   "outputs": [
    {
     "name": "stdout",
     "output_type": "stream",
     "text": [
      "[  22321.78239726  -54516.67291509  222372.41411428   36007.01660479\n",
      "   40542.36930566  274630.2966332  -122900.34052013   45708.08552147\n",
      "  -25168.07097366  -21501.0346222  -422980.78668261  231958.3886294\n",
      "  521226.90640408]\n"
     ]
    }
   ],
   "source": [
    "print(value.coef_)"
   ]
  },
  {
   "cell_type": "code",
   "execution_count": 25,
   "metadata": {},
   "outputs": [
    {
     "data": {
      "text/plain": [
       "LinearRegression(copy_X=True, fit_intercept=True, n_jobs=None, normalize=False)"
      ]
     },
     "execution_count": 25,
     "metadata": {},
     "output_type": "execute_result"
    }
   ],
   "source": [
    "##Linear Regression##\n",
    "from sklearn.linear_model import LinearRegression\n",
    "\n",
    "reg = LinearRegression()\n",
    "reg.fit(X_train, np.ravel(y_train))"
   ]
  },
  {
   "cell_type": "code",
   "execution_count": 26,
   "metadata": {},
   "outputs": [
    {
     "name": "stdout",
     "output_type": "stream",
     "text": [
      "RMSE: 68756.98553551809\n",
      "Predicted 1-5: [213632. 290496. 177664.  84800. 288128.]\n",
      "Actual 1-5: [136900. 241300. 200700.  72500. 460000.]\n"
     ]
    }
   ],
   "source": [
    "def display_results(model, X, y):\n",
    "    print(\"RMSE:\", rmse(model.predict(X), y))\n",
    "    print(\"Predicted 1-5:\", model.predict(X_test[0:5]))\n",
    "    print(\"Actual 1-5:\", y_test[0:5])\n",
    "    \n",
    "display_results(reg, X, y)"
   ]
  },
  {
   "cell_type": "markdown",
   "metadata": {},
   "source": [
    "**Q2. Why is it necessary to normalize all continuous variables before performing Lasso?**"
   ]
  },
  {
   "cell_type": "markdown",
   "metadata": {},
   "source": [
    "<pre>Normalizing data will bring all the numeric values to a common scale and give a better prediction for a global minimum. When normalizing the parameters,the predictors must not outweight one another.  </pre>"
   ]
  },
  {
   "cell_type": "markdown",
   "metadata": {},
   "source": [
    "### Conclusions\n",
    "**Q3. For what values of $\\alpha$ does Lasso perform best? Does it perform as well on the housing data as the linear regressor from the lectures? Why do you think this is?**"
   ]
  },
  {
   "cell_type": "markdown",
   "metadata": {},
   "source": [
    "<pre> We have tried the Lasso Regression for alpha values:\n",
    "1e-15, 1e-10, 1e-8, 1e-4, 1e-3,1e-2, 1, 5, 10, 20\n",
    "Train_score = 0.614631826702569\n",
    "Test_score= 0.600652762781732\n",
    "rmse=71816.8350947485\n",
    "\n",
    "At alpha = 1 the Lasso perform best. It performs as well on the datasets for linear regression.This  is because we have normalized the numerical variables so that they perform well together. Also, since alpha = 1 performs best, this means that the coefficients are that of a simple linear regression analysis, producing similar values.\n",
    "</pre>"
   ]
  },
  {
   "cell_type": "markdown",
   "metadata": {},
   "source": [
    "### Submit your notebook\n",
    "\n",
    "Submit your solution on Canvas"
   ]
  },
  {
   "cell_type": "code",
   "execution_count": null,
   "metadata": {},
   "outputs": [],
   "source": []
  }
 ],
 "metadata": {
  "anaconda-cloud": {},
  "kernelspec": {
   "display_name": "Python 3",
   "language": "python",
   "name": "python3"
  },
  "language_info": {
   "codemirror_mode": {
    "name": "ipython",
    "version": 3
   },
   "file_extension": ".py",
   "mimetype": "text/x-python",
   "name": "python",
   "nbconvert_exporter": "python",
   "pygments_lexer": "ipython3",
   "version": "3.7.3"
  }
 },
 "nbformat": 4,
 "nbformat_minor": 2
}
